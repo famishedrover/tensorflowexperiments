{
 "cells": [
  {
   "cell_type": "code",
   "execution_count": 2,
   "metadata": {
    "collapsed": false
   },
   "outputs": [],
   "source": [
    "%matplotlib inline \n",
    "import matplotlib.pyplot as plt\n",
    "import tensorflow as tf\n",
    "import numpy as np"
   ]
  },
  {
   "cell_type": "code",
   "execution_count": 3,
   "metadata": {
    "collapsed": false
   },
   "outputs": [
    {
     "name": "stdout",
     "output_type": "stream",
     "text": [
      "Extracting data/MNIST/train-images-idx3-ubyte.gz\n",
      "Extracting data/MNIST/train-labels-idx1-ubyte.gz\n",
      "Extracting data/MNIST/t10k-images-idx3-ubyte.gz\n",
      "Extracting data/MNIST/t10k-labels-idx1-ubyte.gz\n"
     ]
    }
   ],
   "source": [
    "from tensorflow.examples.tutorials.mnist import input_data\n",
    "data = input_data.read_data_sets('data/MNIST/',one_hot=True)"
   ]
  },
  {
   "cell_type": "code",
   "execution_count": 34,
   "metadata": {
    "collapsed": true
   },
   "outputs": [],
   "source": [
    "data.test.cls = np.argmax(data.test.labels ,axis =1)"
   ]
  },
  {
   "cell_type": "code",
   "execution_count": 4,
   "metadata": {
    "collapsed": true
   },
   "outputs": [],
   "source": [
    "img_size = 28\n",
    "img_size_flat = img_size*img_size\n",
    "img_shape= (img_size,img_size)\n",
    "num_channels = 1\n",
    "num_classes = 10"
   ]
  },
  {
   "cell_type": "markdown",
   "metadata": {},
   "source": [
    "# MODEL"
   ]
  },
  {
   "cell_type": "markdown",
   "metadata": {},
   "source": [
    "## TF GRAPH INPUTS"
   ]
  },
  {
   "cell_type": "code",
   "execution_count": 5,
   "metadata": {
    "collapsed": true
   },
   "outputs": [],
   "source": [
    "x = tf.placeholder(tf.float32,shape=[None,img_size_flat],name='x')\n",
    "x_image = tf.reshape(x,[-1,img_size,img_size,num_channels]) \n",
    "\n",
    "y_true = tf.placeholder(tf.float32,shape=[None,num_classes],name='y_true')\n",
    "y_true_cls = tf.arg_max(y_true,dimension=1)"
   ]
  },
  {
   "cell_type": "markdown",
   "metadata": {},
   "source": [
    "## TF LAYERS"
   ]
  },
  {
   "cell_type": "code",
   "execution_count": 6,
   "metadata": {
    "collapsed": true
   },
   "outputs": [],
   "source": [
    "net = x_image\n",
    "net = tf.layers.conv2d(inputs=net,name='layer_conv1',padding='same',\n",
    "                       filters=16,kernel_size=5,activation=tf.nn.relu)"
   ]
  },
  {
   "cell_type": "code",
   "execution_count": 7,
   "metadata": {
    "collapsed": true
   },
   "outputs": [],
   "source": [
    "layer_conv1 = net"
   ]
  },
  {
   "cell_type": "code",
   "execution_count": 9,
   "metadata": {
    "collapsed": true
   },
   "outputs": [],
   "source": [
    "net = tf.layers.max_pooling2d(inputs=net ,pool_size=2,strides=2)"
   ]
  },
  {
   "cell_type": "code",
   "execution_count": 10,
   "metadata": {
    "collapsed": true
   },
   "outputs": [],
   "source": [
    "net = tf.layers.conv2d(inputs=net,name='layer_conv2',padding='same',\n",
    "                       filters=36,kernel_size=5,activation=tf.nn.relu)"
   ]
  },
  {
   "cell_type": "code",
   "execution_count": 11,
   "metadata": {
    "collapsed": true
   },
   "outputs": [],
   "source": [
    "layer_conv2= net"
   ]
  },
  {
   "cell_type": "code",
   "execution_count": 12,
   "metadata": {
    "collapsed": true
   },
   "outputs": [],
   "source": [
    "net = tf.layers.max_pooling2d(inputs=net,pool_size=2,strides=2)"
   ]
  },
  {
   "cell_type": "code",
   "execution_count": 13,
   "metadata": {
    "collapsed": false
   },
   "outputs": [
    {
     "name": "stdout",
     "output_type": "stream",
     "text": [
      "Tensor(\"layer_conv1/Relu:0\", shape=(?, 28, 28, 16), dtype=float32)\n",
      "Tensor(\"layer_conv2/Relu:0\", shape=(?, 14, 14, 36), dtype=float32)\n",
      "Tensor(\"max_pooling2d_2/MaxPool:0\", shape=(?, 7, 7, 36), dtype=float32)\n"
     ]
    }
   ],
   "source": [
    "print layer_conv1\n",
    "print layer_conv2\n",
    "print net"
   ]
  },
  {
   "cell_type": "code",
   "execution_count": 14,
   "metadata": {
    "collapsed": false
   },
   "outputs": [
    {
     "name": "stdout",
     "output_type": "stream",
     "text": [
      "Tensor(\"Flatten/Reshape:0\", shape=(?, 1764), dtype=float32)\n"
     ]
    }
   ],
   "source": [
    "net = tf.contrib.layers.flatten(net)\n",
    "print net"
   ]
  },
  {
   "cell_type": "code",
   "execution_count": 16,
   "metadata": {
    "collapsed": true
   },
   "outputs": [],
   "source": [
    "net = tf.layers.dense(inputs=net,name='layer_fc1',units=128,activation=tf.nn.relu)"
   ]
  },
  {
   "cell_type": "code",
   "execution_count": 17,
   "metadata": {
    "collapsed": true
   },
   "outputs": [],
   "source": [
    "net = tf.layers.dense(inputs=net,name='layer_fc_out',units=num_classes,activation=tf.nn.relu)"
   ]
  },
  {
   "cell_type": "markdown",
   "metadata": {},
   "source": [
    "## Logits\n",
    "Output of the final layer before softmax is called Logits."
   ]
  },
  {
   "cell_type": "code",
   "execution_count": 18,
   "metadata": {
    "collapsed": true
   },
   "outputs": [],
   "source": [
    "logits = net"
   ]
  },
  {
   "cell_type": "code",
   "execution_count": 19,
   "metadata": {
    "collapsed": true
   },
   "outputs": [],
   "source": [
    "y_pred = tf.nn.softmax(logits)\n",
    "y_pred_cls = tf.arg_max(y_pred,dimension=1)"
   ]
  },
  {
   "cell_type": "markdown",
   "metadata": {},
   "source": [
    "## Loss & Optimizer "
   ]
  },
  {
   "cell_type": "code",
   "execution_count": 21,
   "metadata": {
    "collapsed": true
   },
   "outputs": [],
   "source": [
    "cross_entropy = tf.nn.softmax_cross_entropy_with_logits(logits=logits,labels=y_true)"
   ]
  },
  {
   "cell_type": "code",
   "execution_count": 22,
   "metadata": {
    "collapsed": true
   },
   "outputs": [],
   "source": [
    "loss = tf.reduce_mean(cross_entropy)"
   ]
  },
  {
   "cell_type": "code",
   "execution_count": 23,
   "metadata": {
    "collapsed": true
   },
   "outputs": [],
   "source": [
    "optimizer = tf.train.AdamOptimizer?"
   ]
  },
  {
   "cell_type": "code",
   "execution_count": 24,
   "metadata": {
    "collapsed": true
   },
   "outputs": [],
   "source": [
    "optimizer = tf.train.AdamOptimizer(learning_rate=1e-4).minimize(loss)"
   ]
  },
  {
   "cell_type": "code",
   "execution_count": 25,
   "metadata": {
    "collapsed": false
   },
   "outputs": [
    {
     "name": "stdout",
     "output_type": "stream",
     "text": [
      "Tensor(\"layer_conv1/kernel/read:0\", shape=(5, 5, 1, 16), dtype=float32)\n",
      "Tensor(\"layer_conv1/bias/read:0\", shape=(16,), dtype=float32)\n",
      "Tensor(\"layer_conv2/kernel/read:0\", shape=(5, 5, 16, 36), dtype=float32)\n",
      "Tensor(\"layer_conv2/bias/read:0\", shape=(36,), dtype=float32)\n",
      "Tensor(\"layer_fc1/kernel/read:0\", shape=(1764, 128), dtype=float32)\n",
      "Tensor(\"layer_fc1/bias/read:0\", shape=(128,), dtype=float32)\n",
      "Tensor(\"layer_fc_out/kernel/read:0\", shape=(128, 10), dtype=float32)\n",
      "Tensor(\"layer_fc_out/bias/read:0\", shape=(10,), dtype=float32)\n",
      "Tensor(\"beta1_power/read:0\", shape=(), dtype=float32)\n",
      "Tensor(\"beta2_power/read:0\", shape=(), dtype=float32)\n",
      "Tensor(\"layer_conv1/kernel/Adam/read:0\", shape=(5, 5, 1, 16), dtype=float32)\n",
      "Tensor(\"layer_conv1/kernel/Adam_1/read:0\", shape=(5, 5, 1, 16), dtype=float32)\n",
      "Tensor(\"layer_conv1/bias/Adam/read:0\", shape=(16,), dtype=float32)\n",
      "Tensor(\"layer_conv1/bias/Adam_1/read:0\", shape=(16,), dtype=float32)\n",
      "Tensor(\"layer_conv2/kernel/Adam/read:0\", shape=(5, 5, 16, 36), dtype=float32)\n",
      "Tensor(\"layer_conv2/kernel/Adam_1/read:0\", shape=(5, 5, 16, 36), dtype=float32)\n",
      "Tensor(\"layer_conv2/bias/Adam/read:0\", shape=(36,), dtype=float32)\n",
      "Tensor(\"layer_conv2/bias/Adam_1/read:0\", shape=(36,), dtype=float32)\n",
      "Tensor(\"layer_fc1/kernel/Adam/read:0\", shape=(1764, 128), dtype=float32)\n",
      "Tensor(\"layer_fc1/kernel/Adam_1/read:0\", shape=(1764, 128), dtype=float32)\n",
      "Tensor(\"layer_fc1/bias/Adam/read:0\", shape=(128,), dtype=float32)\n",
      "Tensor(\"layer_fc1/bias/Adam_1/read:0\", shape=(128,), dtype=float32)\n",
      "Tensor(\"layer_fc_out/kernel/Adam/read:0\", shape=(128, 10), dtype=float32)\n",
      "Tensor(\"layer_fc_out/kernel/Adam_1/read:0\", shape=(128, 10), dtype=float32)\n",
      "Tensor(\"layer_fc_out/bias/Adam/read:0\", shape=(10,), dtype=float32)\n",
      "Tensor(\"layer_fc_out/bias/Adam_1/read:0\", shape=(10,), dtype=float32)\n"
     ]
    }
   ],
   "source": [
    "for var in tf.get_collection(tf.GraphKeys.GLOBAL_VARIABLES) :\n",
    "    print var"
   ]
  },
  {
   "cell_type": "code",
   "execution_count": 27,
   "metadata": {
    "collapsed": true
   },
   "outputs": [],
   "source": [
    "def get_weight_variables(layername):\n",
    "    with tf.variable_scope(layername,reuse=True) :\n",
    "        variable = tf.get_variable('kernel')\n",
    "    return variable"
   ]
  },
  {
   "cell_type": "markdown",
   "metadata": {},
   "source": [
    "## TF SESSION RUN"
   ]
  },
  {
   "cell_type": "code",
   "execution_count": 29,
   "metadata": {
    "collapsed": false
   },
   "outputs": [],
   "source": [
    "session = tf.Session()\n",
    "session.run(tf.global_variables_initializer())"
   ]
  },
  {
   "cell_type": "code",
   "execution_count": 30,
   "metadata": {
    "collapsed": true
   },
   "outputs": [],
   "source": [
    "train_batch_size = 128"
   ]
  },
  {
   "cell_type": "code",
   "execution_count": 31,
   "metadata": {
    "collapsed": true
   },
   "outputs": [],
   "source": [
    "total_iterations = 0\n",
    "def optimize(num_iterations):\n",
    "    global total_iterations  \n",
    "    current_iter = 0\n",
    "    try :\n",
    "        for i in range(total_iterations,total_iterations+num_iterations):\n",
    "            x_batch,y_true_batch = data.train.next_batch(train_batch_size)\n",
    "            feed_dict = {x:x_batch,y_true:y_true_batch}\n",
    "            session.run(optimizer,feed_dict=feed_dict)\n",
    "            current_iter = i\n",
    "        total_iterations += num_iterations\n",
    "    except :\n",
    "        total_iterations += current_iter"
   ]
  },
  {
   "cell_type": "code",
   "execution_count": 35,
   "metadata": {
    "collapsed": true
   },
   "outputs": [],
   "source": [
    "test_batch_size = 256\n",
    "def print_accuracy(show_example_errors= False ,show_confusion_matrix = False) :\n",
    "    num_test = len(data.test.images)\n",
    "    cls_pred = np.zeros(shape=num_test,dtype = np.int)\n",
    "    i=0\n",
    "    while(i<num_test) :\n",
    "        j=min(i + test_batch_size, num_test)\n",
    "        images = data.test.images[i:j,:]\n",
    "        labels = data.test.labels[i:j,:]\n",
    "        feed_dict={x:images,y_true:labels}\n",
    "        cls_pred[i:j] = session.run(y_pred_cls,feed_dict=feed_dict)\n",
    "        i=j\n",
    "    cls_true = data.test.cls\n",
    "    correct = (cls_true==cls_pred)\n",
    "    correct_sum = correct.sum()\n",
    "    acc = float(correct_sum)/num_test   \n",
    "    print \"Accuracy on Test-Set: {0:.1%} ({1} / {2})\".format(acc, correct_sum, num_test)"
   ]
  },
  {
   "cell_type": "markdown",
   "metadata": {},
   "source": [
    "# MODEL RUN"
   ]
  },
  {
   "cell_type": "code",
   "execution_count": 36,
   "metadata": {
    "collapsed": false
   },
   "outputs": [
    {
     "name": "stdout",
     "output_type": "stream",
     "text": [
      "Accuracy on Test-Set: 10.6% (1057 / 10000)\n"
     ]
    }
   ],
   "source": [
    "print_accuracy()"
   ]
  },
  {
   "cell_type": "code",
   "execution_count": 37,
   "metadata": {
    "collapsed": false
   },
   "outputs": [
    {
     "name": "stdout",
     "output_type": "stream",
     "text": [
      "Accuracy on Test-Set: 11.5% (1147 / 10000)\n"
     ]
    }
   ],
   "source": [
    "optimize(1)\n",
    "print_accuracy()"
   ]
  },
  {
   "cell_type": "code",
   "execution_count": 38,
   "metadata": {
    "collapsed": false
   },
   "outputs": [
    {
     "name": "stdout",
     "output_type": "stream",
     "text": [
      "Accuracy on Test-Set: 95.4% (9536 / 10000)\n"
     ]
    }
   ],
   "source": [
    "optimize(999)\n",
    "print_accuracy()"
   ]
  }
 ],
 "metadata": {
  "kernelspec": {
   "display_name": "Python 2",
   "language": "python",
   "name": "python2"
  },
  "language_info": {
   "codemirror_mode": {
    "name": "ipython",
    "version": 2
   },
   "file_extension": ".py",
   "mimetype": "text/x-python",
   "name": "python",
   "nbconvert_exporter": "python",
   "pygments_lexer": "ipython2",
   "version": "2.7.13"
  }
 },
 "nbformat": 4,
 "nbformat_minor": 2
}
