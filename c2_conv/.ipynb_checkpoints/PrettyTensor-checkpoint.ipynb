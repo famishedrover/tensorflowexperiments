{
 "cells": [
  {
   "cell_type": "code",
   "execution_count": 1,
   "metadata": {
    "collapsed": false
   },
   "outputs": [
    {
     "name": "stderr",
     "output_type": "stream",
     "text": [
      "/usr/local/lib/python2.7/site-packages/matplotlib/font_manager.py:273: UserWarning: Matplotlib is building the font cache using fc-list. This may take a moment.\n",
      "  warnings.warn('Matplotlib is building the font cache using fc-list. This may take a moment.')\n"
     ]
    }
   ],
   "source": [
    "import prettytensor as pt\n",
    "%matplotlib inline\n",
    "from matplotlib import pyplot as plt\n",
    "import numpy as np\n",
    "import tensorflow as tf\n",
    "from sklearn.metrics import confusion_matrix\n",
    "from datetime import timedelta\n",
    "import time\n",
    "import math"
   ]
  },
  {
   "cell_type": "markdown",
   "metadata": {},
   "source": [
    "# DATA IMPORT"
   ]
  },
  {
   "cell_type": "code",
   "execution_count": 2,
   "metadata": {
    "collapsed": false
   },
   "outputs": [
    {
     "name": "stdout",
     "output_type": "stream",
     "text": [
      "Extracting data/MNIST/train-images-idx3-ubyte.gz\n",
      "Extracting data/MNIST/train-labels-idx1-ubyte.gz\n",
      "Extracting data/MNIST/t10k-images-idx3-ubyte.gz\n",
      "Extracting data/MNIST/t10k-labels-idx1-ubyte.gz\n"
     ]
    }
   ],
   "source": [
    "from tensorflow.examples.tutorials.mnist import input_data\n",
    "data = input_data.read_data_sets('data/MNIST/',one_hot=True)"
   ]
  },
  {
   "cell_type": "code",
   "execution_count": 3,
   "metadata": {
    "collapsed": true
   },
   "outputs": [],
   "source": [
    "data.test.cls = np.argmax(data.test.labels ,axis =1)"
   ]
  },
  {
   "cell_type": "markdown",
   "metadata": {},
   "source": [
    "# ----------------------------MODEL----------------------------"
   ]
  },
  {
   "cell_type": "markdown",
   "metadata": {},
   "source": [
    "## MODEL INPUTS"
   ]
  },
  {
   "cell_type": "markdown",
   "metadata": {},
   "source": [
    "Images."
   ]
  },
  {
   "cell_type": "code",
   "execution_count": 4,
   "metadata": {
    "collapsed": false
   },
   "outputs": [],
   "source": [
    "x = tf.placeholder(tf.float32,shape = [None,784],name='x')\n",
    "x_image = tf.reshape(x,[-1,28,28,1])\n",
    "#                   [num_images , img_width , img_height , channels]\n",
    "x_pretty = pt.wrap(x_image)"
   ]
  },
  {
   "cell_type": "markdown",
   "metadata": {},
   "source": [
    "Labels"
   ]
  },
  {
   "cell_type": "code",
   "execution_count": 5,
   "metadata": {
    "collapsed": true
   },
   "outputs": [],
   "source": [
    "y_true = tf.placeholder(tf.float32 , shape = [None,10],name='y')\n",
    "y_true_cls = tf.argmax(y_true,dimension=1)"
   ]
  },
  {
   "cell_type": "markdown",
   "metadata": {},
   "source": [
    "## MODEL"
   ]
  },
  {
   "cell_type": "code",
   "execution_count": 6,
   "metadata": {
    "collapsed": true
   },
   "outputs": [],
   "source": [
    "with pt.defaults_scope(activation_fn=tf.nn.relu):\n",
    "    y_pred ,loss = x_pretty.\\\n",
    "        conv2d(kernel=5,depth=16,name='layer_conv1').\\\n",
    "        max_pool(kernel=2,stride=2).\\\n",
    "        conv2d(kernel=5,depth=36,name='layer_conv2').\\\n",
    "        max_pool(kernel=2,stride=2).\\\n",
    "        flatten().\\\n",
    "        fully_connected(size=128,name='layer_fc1').\\\n",
    "        softmax_classifier(num_classes=10,labels=y_true)  \n",
    "        \n",
    "y_pred_cls = tf.argmax(y_pred,dimension=1)"
   ]
  },
  {
   "cell_type": "code",
   "execution_count": 7,
   "metadata": {
    "collapsed": true
   },
   "outputs": [],
   "source": [
    "optimizer = tf.train.AdamOptimizer(learning_rate=1e-4).minimize(loss)\n",
    "correct_prediction = tf.equal(y_pred_cls,y_true_cls)\n",
    "accuracy = tf.reduce_mean(tf.cast(correct_prediction,tf.float32))"
   ]
  },
  {
   "cell_type": "markdown",
   "metadata": {},
   "source": [
    "### MODEL FUNCTIONS"
   ]
  },
  {
   "cell_type": "code",
   "execution_count": 8,
   "metadata": {
    "collapsed": true
   },
   "outputs": [],
   "source": [
    "train_batch_size = 128\n",
    "total_iterations = 0\n",
    "def optimize(num_iterations):\n",
    "    global total_iterations\n",
    "    start_time = time.time()\n",
    "    for i in range(total_iterations,total_iterations+num_iterations) :\n",
    "        x_batch,y_true_batch = data.train.next_batch(train_batch_size)\n",
    "        feed_dict_train = {x:x_batch,y_true:y_true_batch}\n",
    "        session.run(optimizer,feed_dict=feed_dict_train)\n",
    "        \n",
    "        if i%100 == 0:\n",
    "            acc = session.run(accuracy,feed_dict=feed_dict_train)\n",
    "            print 'Accuracy @iter {0:>6} , Training Acc {1}'.format(i+1,acc)\n",
    "            \n",
    "    total_iterations += num_iterations\n",
    "    end_time = time.time()\n",
    "    print 'Total Time Elapsed :',round(end_time-start_time,3)"
   ]
  },
  {
   "cell_type": "markdown",
   "metadata": {},
   "source": [
    "### OTHER FUNCTIONS"
   ]
  },
  {
   "cell_type": "code",
   "execution_count": 9,
   "metadata": {
    "collapsed": true
   },
   "outputs": [],
   "source": [
    "def plot_example_errors(cls_pred,correct):\n",
    "    incorrect = (correct==False)\n",
    "    images = data.test.images[incorrect]\n",
    "    cls_pred = cls_pred[incorrect]\n",
    "    cls_true = data.test.cls[incorrect]\n",
    "    plot_images(images[:9],cls_true[:9],cls_pred[:9])\n",
    "    \n",
    "    \n",
    "\n",
    "def plot_confusion_matrix(cls_pred):\n",
    "    cls_true = data.test.cls\n",
    "    cm = confusion_matrix(y_true = cls_true , y_pred = cls_pred)\n",
    "    print cm\n",
    "    plt.imshow(cm,interpolation='nearest',cmap=plt.cm.Blues)\n",
    "    \n",
    "    plt.tight_layout()\n",
    "    plt.colorbar()\n",
    "    tick_marks = np.arange(num_classes)\n",
    "    plt.xticks(tick_marks,range(num_classes))\n",
    "    plt.yticks(tick_marks,range(num_classes))\n",
    "    plt.xlabel('Predicted')\n",
    "    plt.ylabel('True')\n",
    "    plt.show()\n",
    "    \n",
    "    \n",
    "\n",
    "test_batch_size = 256\n",
    "def print_accuracy(show_example_errors= False ,show_confusion_matrix = False) :\n",
    "    num_test = len(data.test.images)\n",
    "    cls_pred = np.zeros(shape=num_test,dtype = np.int)\n",
    "    i=0\n",
    "    while(i<num_test) :\n",
    "        j=min(i + test_batch_size, num_test)\n",
    "        images = data.test.images[i:j,:]\n",
    "        labels = data.test.labels[i:j,:]\n",
    "        feed_dict={x:images,y_true:labels}\n",
    "        cls_pred[i:j] = session.run(y_pred_cls,feed_dict=feed_dict)\n",
    "        i=j\n",
    "        \n",
    "    cls_true = data.test.cls\n",
    "    correct = (cls_true==cls_pred)\n",
    "    correct_sum = correct.sum()\n",
    "    acc = float(correct_sum)/num_test\n",
    "   \n",
    "    print \"Accuracy on Test-Set: {0:.1%} ({1} / {2})\".format(acc, correct_sum, num_test)\n",
    "    \n",
    "    if show_example_errors:\n",
    "        print(\"Example errors:\")\n",
    "        plot_example_errors(cls_pred=cls_pred, correct=correct)\n",
    "\n",
    "    if show_confusion_matrix:\n",
    "        print(\"Confusion Matrix:\")\n",
    "        plot_confusion_matrix(cls_pred=cls_pred)\n",
    "    "
   ]
  },
  {
   "cell_type": "markdown",
   "metadata": {},
   "source": [
    "#### Function to retrieve weights \n",
    "required when using prettyTensor"
   ]
  },
  {
   "cell_type": "code",
   "execution_count": 10,
   "metadata": {
    "collapsed": true
   },
   "outputs": [],
   "source": [
    "def get_pt_weights(layer_name):\n",
    "    with tf.variable_scope(layer_name,reuse=True):\n",
    "        variable = tf.get_variable('weights')\n",
    "    return variable"
   ]
  },
  {
   "cell_type": "markdown",
   "metadata": {},
   "source": [
    "# TENSORFLOW SESS RUN"
   ]
  },
  {
   "cell_type": "code",
   "execution_count": 11,
   "metadata": {
    "collapsed": true
   },
   "outputs": [],
   "source": [
    "session = tf.Session()\n",
    "session.run(tf.global_variables_initializer())"
   ]
  },
  {
   "cell_type": "code",
   "execution_count": 12,
   "metadata": {
    "collapsed": false
   },
   "outputs": [
    {
     "name": "stdout",
     "output_type": "stream",
     "text": [
      "Accuracy on Test-Set: 16.3% (1633 / 10000)\n"
     ]
    }
   ],
   "source": [
    "print_accuracy()"
   ]
  },
  {
   "cell_type": "code",
   "execution_count": 13,
   "metadata": {
    "collapsed": false
   },
   "outputs": [
    {
     "name": "stdout",
     "output_type": "stream",
     "text": [
      "Accuracy @iter      1 , Training Acc 0.234375\n",
      "Total Time Elapsed : 0.245\n",
      "Accuracy on Test-Set: 17.1% (1710 / 10000)\n"
     ]
    }
   ],
   "source": [
    "optimize(1)\n",
    "print_accuracy()"
   ]
  },
  {
   "cell_type": "code",
   "execution_count": 14,
   "metadata": {
    "collapsed": false
   },
   "outputs": [
    {
     "name": "stdout",
     "output_type": "stream",
     "text": [
      "Total Time Elapsed : 16.648\n",
      "Accuracy on Test-Set: 86.1% (8607 / 10000)\n"
     ]
    }
   ],
   "source": [
    "optimize(99)\n",
    "print_accuracy()"
   ]
  },
  {
   "cell_type": "code",
   "execution_count": 15,
   "metadata": {
    "collapsed": false
   },
   "outputs": [
    {
     "data": {
      "text/plain": [
       "100"
      ]
     },
     "execution_count": 15,
     "metadata": {},
     "output_type": "execute_result"
    }
   ],
   "source": [
    "total_iterations"
   ]
  },
  {
   "cell_type": "code",
   "execution_count": 16,
   "metadata": {
    "collapsed": false
   },
   "outputs": [
    {
     "name": "stdout",
     "output_type": "stream",
     "text": [
      "Accuracy @iter    101 , Training Acc 0.8203125\n",
      "Total Time Elapsed : 16.633\n",
      "Accuracy on Test-Set: 92.2% (9217 / 10000)\n"
     ]
    }
   ],
   "source": [
    "optimize(100)\n",
    "print_accuracy()"
   ]
  },
  {
   "cell_type": "code",
   "execution_count": 17,
   "metadata": {
    "collapsed": false
   },
   "outputs": [
    {
     "name": "stdout",
     "output_type": "stream",
     "text": [
      "Accuracy @iter    201 , Training Acc 0.8671875\n",
      "Total Time Elapsed : 16.559\n",
      "Accuracy on Test-Set: 93.9% (9386 / 10000)\n"
     ]
    }
   ],
   "source": [
    "optimize(100)\n",
    "print_accuracy()"
   ]
  }
 ],
 "metadata": {
  "kernelspec": {
   "display_name": "Python 2",
   "language": "python",
   "name": "python2"
  },
  "language_info": {
   "codemirror_mode": {
    "name": "ipython",
    "version": 2
   },
   "file_extension": ".py",
   "mimetype": "text/x-python",
   "name": "python",
   "nbconvert_exporter": "python",
   "pygments_lexer": "ipython2",
   "version": "2.7.13"
  }
 },
 "nbformat": 4,
 "nbformat_minor": 2
}
