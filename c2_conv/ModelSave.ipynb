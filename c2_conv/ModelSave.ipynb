{
 "cells": [
  {
   "cell_type": "code",
   "execution_count": 1,
   "metadata": {
    "collapsed": false
   },
   "outputs": [
    {
     "name": "stderr",
     "output_type": "stream",
     "text": [
      "/usr/local/lib/python2.7/site-packages/matplotlib/font_manager.py:273: UserWarning: Matplotlib is building the font cache using fc-list. This may take a moment.\n",
      "  warnings.warn('Matplotlib is building the font cache using fc-list. This may take a moment.')\n"
     ]
    }
   ],
   "source": [
    "%matplotlib inline \n",
    "import matplotlib.pyplot as plt\n",
    "import tensorflow as tf\n",
    "import numpy as np"
   ]
  },
  {
   "cell_type": "code",
   "execution_count": 2,
   "metadata": {
    "collapsed": true
   },
   "outputs": [],
   "source": [
    "import time"
   ]
  },
  {
   "cell_type": "code",
   "execution_count": 3,
   "metadata": {
    "collapsed": false
   },
   "outputs": [
    {
     "name": "stdout",
     "output_type": "stream",
     "text": [
      "Extracting data/MNIST/train-images-idx3-ubyte.gz\n",
      "Extracting data/MNIST/train-labels-idx1-ubyte.gz\n",
      "Extracting data/MNIST/t10k-images-idx3-ubyte.gz\n",
      "Extracting data/MNIST/t10k-labels-idx1-ubyte.gz\n"
     ]
    }
   ],
   "source": [
    "from tensorflow.examples.tutorials.mnist import input_data\n",
    "data = input_data.read_data_sets('data/MNIST/',one_hot=True)\n",
    "data.test.cls = np.argmax(data.test.labels ,axis =1)\n",
    "data.validation.cls = np.argmax(data.validation.labels, axis=1)"
   ]
  },
  {
   "cell_type": "code",
   "execution_count": 4,
   "metadata": {
    "collapsed": true
   },
   "outputs": [],
   "source": [
    "img_size = 28\n",
    "img_size_flat = img_size*img_size\n",
    "img_shape= (img_size,img_size)\n",
    "num_channels = 1\n",
    "num_classes = 10"
   ]
  },
  {
   "cell_type": "markdown",
   "metadata": {},
   "source": [
    "# MODEL"
   ]
  },
  {
   "cell_type": "markdown",
   "metadata": {},
   "source": [
    "## TF GRAPH INPUTS"
   ]
  },
  {
   "cell_type": "code",
   "execution_count": 5,
   "metadata": {
    "collapsed": true
   },
   "outputs": [],
   "source": [
    "x = tf.placeholder(tf.float32,shape=[None,img_size_flat],name='x')\n",
    "x_image = tf.reshape(x,[-1,img_size,img_size,num_channels]) \n",
    "\n",
    "y_true = tf.placeholder(tf.float32,shape=[None,num_classes],name='y_true')\n",
    "y_true_cls = tf.arg_max(y_true,dimension=1)"
   ]
  },
  {
   "cell_type": "markdown",
   "metadata": {},
   "source": [
    "## TF LAYERS"
   ]
  },
  {
   "cell_type": "code",
   "execution_count": 6,
   "metadata": {
    "collapsed": true
   },
   "outputs": [],
   "source": [
    "net = x_image\n",
    "net = tf.layers.conv2d(inputs=net,name='layer_conv1',padding='same',\n",
    "                       filters=16,kernel_size=5,activation=tf.nn.relu)\n",
    "layer_conv1 = net\n",
    "net = tf.layers.max_pooling2d(inputs=net ,pool_size=2,strides=2)\n",
    "net = tf.layers.conv2d(inputs=net,name='layer_conv2',padding='same',\n",
    "                       filters=36,kernel_size=5,activation=tf.nn.relu)\n",
    "layer_conv2= net\n",
    "net = tf.layers.max_pooling2d(inputs=net,pool_size=2,strides=2)\n",
    "net = tf.contrib.layers.flatten(net)\n",
    "net = tf.layers.dense(inputs=net,name='layer_fc1',units=128,activation=tf.nn.relu)\n",
    "net = tf.layers.dense(inputs=net,name='layer_fc_out',units=num_classes,activation=tf.nn.relu)"
   ]
  },
  {
   "cell_type": "code",
   "execution_count": 7,
   "metadata": {
    "collapsed": false
   },
   "outputs": [
    {
     "name": "stdout",
     "output_type": "stream",
     "text": [
      "Tensor(\"layer_conv1/Relu:0\", shape=(?, 28, 28, 16), dtype=float32)\n",
      "Tensor(\"layer_conv2/Relu:0\", shape=(?, 14, 14, 36), dtype=float32)\n",
      "Tensor(\"layer_fc_out/Relu:0\", shape=(?, 10), dtype=float32)\n"
     ]
    }
   ],
   "source": [
    "print layer_conv1\n",
    "print layer_conv2\n",
    "print net"
   ]
  },
  {
   "cell_type": "markdown",
   "metadata": {},
   "source": [
    "## Logits\n",
    "Output of the final layer before softmax is called Logits."
   ]
  },
  {
   "cell_type": "code",
   "execution_count": 8,
   "metadata": {
    "collapsed": true
   },
   "outputs": [],
   "source": [
    "logits = net\n",
    "y_pred = tf.nn.softmax(logits)\n",
    "y_pred_cls = tf.arg_max(y_pred,dimension=1)"
   ]
  },
  {
   "cell_type": "code",
   "execution_count": 9,
   "metadata": {
    "collapsed": true
   },
   "outputs": [],
   "source": [
    "correct_prediction = tf.equal(y_pred_cls,y_true_cls)\n",
    "accuracy = tf.reduce_mean(tf.cast(correct_prediction,tf.float32))"
   ]
  },
  {
   "cell_type": "markdown",
   "metadata": {},
   "source": [
    "## Loss & Optimizer "
   ]
  },
  {
   "cell_type": "code",
   "execution_count": 10,
   "metadata": {
    "collapsed": true
   },
   "outputs": [],
   "source": [
    "cross_entropy = tf.nn.softmax_cross_entropy_with_logits(logits=logits,labels=y_true)\n",
    "loss = tf.reduce_mean(cross_entropy)"
   ]
  },
  {
   "cell_type": "code",
   "execution_count": 11,
   "metadata": {
    "collapsed": true
   },
   "outputs": [],
   "source": [
    "optimizer = tf.train.AdamOptimizer(learning_rate=1e-4).minimize(loss)"
   ]
  },
  {
   "cell_type": "code",
   "execution_count": 12,
   "metadata": {
    "collapsed": false
   },
   "outputs": [
    {
     "name": "stdout",
     "output_type": "stream",
     "text": [
      "Tensor(\"layer_conv1/kernel/read:0\", shape=(5, 5, 1, 16), dtype=float32)\n",
      "Tensor(\"layer_conv1/bias/read:0\", shape=(16,), dtype=float32)\n",
      "Tensor(\"layer_conv2/kernel/read:0\", shape=(5, 5, 16, 36), dtype=float32)\n",
      "Tensor(\"layer_conv2/bias/read:0\", shape=(36,), dtype=float32)\n",
      "Tensor(\"layer_fc1/kernel/read:0\", shape=(1764, 128), dtype=float32)\n",
      "Tensor(\"layer_fc1/bias/read:0\", shape=(128,), dtype=float32)\n",
      "Tensor(\"layer_fc_out/kernel/read:0\", shape=(128, 10), dtype=float32)\n",
      "Tensor(\"layer_fc_out/bias/read:0\", shape=(10,), dtype=float32)\n",
      "Tensor(\"beta1_power/read:0\", shape=(), dtype=float32)\n",
      "Tensor(\"beta2_power/read:0\", shape=(), dtype=float32)\n",
      "Tensor(\"layer_conv1/kernel/Adam/read:0\", shape=(5, 5, 1, 16), dtype=float32)\n",
      "Tensor(\"layer_conv1/kernel/Adam_1/read:0\", shape=(5, 5, 1, 16), dtype=float32)\n",
      "Tensor(\"layer_conv1/bias/Adam/read:0\", shape=(16,), dtype=float32)\n",
      "Tensor(\"layer_conv1/bias/Adam_1/read:0\", shape=(16,), dtype=float32)\n",
      "Tensor(\"layer_conv2/kernel/Adam/read:0\", shape=(5, 5, 16, 36), dtype=float32)\n",
      "Tensor(\"layer_conv2/kernel/Adam_1/read:0\", shape=(5, 5, 16, 36), dtype=float32)\n",
      "Tensor(\"layer_conv2/bias/Adam/read:0\", shape=(36,), dtype=float32)\n",
      "Tensor(\"layer_conv2/bias/Adam_1/read:0\", shape=(36,), dtype=float32)\n",
      "Tensor(\"layer_fc1/kernel/Adam/read:0\", shape=(1764, 128), dtype=float32)\n",
      "Tensor(\"layer_fc1/kernel/Adam_1/read:0\", shape=(1764, 128), dtype=float32)\n",
      "Tensor(\"layer_fc1/bias/Adam/read:0\", shape=(128,), dtype=float32)\n",
      "Tensor(\"layer_fc1/bias/Adam_1/read:0\", shape=(128,), dtype=float32)\n",
      "Tensor(\"layer_fc_out/kernel/Adam/read:0\", shape=(128, 10), dtype=float32)\n",
      "Tensor(\"layer_fc_out/kernel/Adam_1/read:0\", shape=(128, 10), dtype=float32)\n",
      "Tensor(\"layer_fc_out/bias/Adam/read:0\", shape=(10,), dtype=float32)\n",
      "Tensor(\"layer_fc_out/bias/Adam_1/read:0\", shape=(10,), dtype=float32)\n"
     ]
    }
   ],
   "source": [
    "for var in tf.get_collection(tf.GraphKeys.GLOBAL_VARIABLES) :\n",
    "    print var"
   ]
  },
  {
   "cell_type": "code",
   "execution_count": 13,
   "metadata": {
    "collapsed": true
   },
   "outputs": [],
   "source": [
    "batch_size = 256\n",
    "def predict_cls(images,labels,cls_true):\n",
    "    num_images = len(images)\n",
    "    cls_pred = np.zeros(shape=num_images,dtype=np.int)\n",
    "    i=0\n",
    "    while i < num_images :\n",
    "        j = min(i+batch_size,num_images)\n",
    "        feed_dict={x:images[i:j,:], y_true:labels[i:j,:]}\n",
    "        cls_pred[i:j] = session.run(y_pred_cls,feed_dict=feed_dict)\n",
    "        i=j\n",
    "    correct = (cls_true==cls_pred)\n",
    "    return correct,cls_pred"
   ]
  },
  {
   "cell_type": "code",
   "execution_count": 14,
   "metadata": {
    "collapsed": true
   },
   "outputs": [],
   "source": [
    "def predict_cls_validation():\n",
    "    return predict_cls(images = data.validation.images,\n",
    "                       labels = data.validation.labels,\n",
    "                       cls_true = data.validation.cls)"
   ]
  },
  {
   "cell_type": "code",
   "execution_count": 15,
   "metadata": {
    "collapsed": true
   },
   "outputs": [],
   "source": [
    "def predict_cls_test():\n",
    "    return predict_cls(images = data.test.images,\n",
    "                       labels = data.test.labels,\n",
    "                       cls_true = data.test.cls)"
   ]
  },
  {
   "cell_type": "code",
   "execution_count": 16,
   "metadata": {
    "collapsed": true
   },
   "outputs": [],
   "source": [
    "def cls_accuracy(correct):\n",
    "    correct_sum = correct.sum()\n",
    "    acc = float(correct_sum) / len(correct)\n",
    "    return acc, correct_sum"
   ]
  },
  {
   "cell_type": "code",
   "execution_count": 17,
   "metadata": {
    "collapsed": true
   },
   "outputs": [],
   "source": [
    "def validation_accuracy():\n",
    "    correct, _ = predict_cls_validation()\n",
    "    return cls_accuracy(correct)"
   ]
  },
  {
   "cell_type": "code",
   "execution_count": 18,
   "metadata": {
    "collapsed": true
   },
   "outputs": [],
   "source": [
    "def get_weight_variables(layername):\n",
    "    with tf.variable_scope(layername,reuse=True) :\n",
    "        variable = tf.get_variable('kernel')\n",
    "    return variable"
   ]
  },
  {
   "cell_type": "markdown",
   "metadata": {},
   "source": [
    "## TF SESSION RUN"
   ]
  },
  {
   "cell_type": "code",
   "execution_count": 19,
   "metadata": {
    "collapsed": false
   },
   "outputs": [],
   "source": [
    "session = tf.Session()\n",
    "session.run(tf.global_variables_initializer())"
   ]
  },
  {
   "cell_type": "code",
   "execution_count": 20,
   "metadata": {
    "collapsed": false
   },
   "outputs": [],
   "source": [
    "saver = tf.train.Saver()\n",
    "save_path = 'checkpoints/best_validation'"
   ]
  },
  {
   "cell_type": "code",
   "execution_count": 21,
   "metadata": {
    "collapsed": true
   },
   "outputs": [],
   "source": [
    "train_batch_size = 128"
   ]
  },
  {
   "cell_type": "code",
   "execution_count": 22,
   "metadata": {
    "collapsed": true
   },
   "outputs": [],
   "source": [
    "total_iterations = 0\n",
    "best_validation_accuracy =0\n",
    "last_improvement = 0\n",
    "require_improvement = 300\n",
    "# for early stopping."
   ]
  },
  {
   "cell_type": "code",
   "execution_count": 23,
   "metadata": {
    "collapsed": true
   },
   "outputs": [],
   "source": [
    "def optimize(num_iterations):\n",
    "    global total_iterations\n",
    "    global best_validation_accuracy\n",
    "    global last_improvement\n",
    "    \n",
    "    start_time = time.time()\n",
    "    for i in range(num_iterations) :\n",
    "        total_iterations += 1\n",
    "        x_batch,y_true_batch = data.train.next_batch(train_batch_size)\n",
    "        feed_dict = {x:x_batch,y_true:y_true_batch}\n",
    "        session.run(optimizer,feed_dict=feed_dict)\n",
    "        if (total_iterations % 100 == 0) or (i == num_iterations-1) :\n",
    "            acc_train = session.run(accuracy,feed_dict=feed_dict)\n",
    "            acc_validation,_ = validation_accuracy()\n",
    "            if acc_validation > best_validation_accuracy :\n",
    "                best_validation_accuracy = acc_validation\n",
    "                last_improvement = total_iterations\n",
    "                saver.save(sess=session,save_path=save_path)\n",
    "                impr_str = '*'\n",
    "            else :\n",
    "                impr_str = ''\n",
    "            print ('Iter {0:>6},Train Accuracy {1:>6.1%},Validation Accuracy {2:>6.1%} {3}').format(total_iterations,acc_train,acc_validation,impr_str)\n",
    "        \n",
    "        if total_iterations - last_improvement > require_improvement :\n",
    "            print ('Early Stopping.')\n",
    "            break\n",
    "        \n",
    "    end_time = time.time()\n",
    "    print ('Total Usage:',round(end_time-start_time,3),' seconds')\n",
    "        "
   ]
  },
  {
   "cell_type": "code",
   "execution_count": 24,
   "metadata": {
    "collapsed": true
   },
   "outputs": [],
   "source": [
    "test_batch_size = 256\n",
    "def print_accuracy(show_example_errors= False ,show_confusion_matrix = False) :\n",
    "    num_test = len(data.test.images)\n",
    "    cls_pred = np.zeros(shape=num_test,dtype = np.int)\n",
    "    i=0\n",
    "    while(i<num_test) :\n",
    "        j=min(i + test_batch_size, num_test)\n",
    "        images = data.test.images[i:j,:]\n",
    "        labels = data.test.labels[i:j,:]\n",
    "        feed_dict={x:images,y_true:labels}\n",
    "        cls_pred[i:j] = session.run(y_pred_cls,feed_dict=feed_dict)\n",
    "        i=j\n",
    "    cls_true = data.test.cls\n",
    "    correct = (cls_true==cls_pred)\n",
    "    correct_sum = correct.sum()\n",
    "    acc = float(correct_sum)/num_test   \n",
    "    print \"Accuracy on Test-Set: {0:.1%} ({1} / {2})\".format(acc, correct_sum, num_test)"
   ]
  },
  {
   "cell_type": "markdown",
   "metadata": {},
   "source": [
    "# MODEL RUN"
   ]
  },
  {
   "cell_type": "code",
   "execution_count": 25,
   "metadata": {
    "collapsed": false
   },
   "outputs": [
    {
     "name": "stdout",
     "output_type": "stream",
     "text": [
      "Accuracy on Test-Set: 6.0% (597 / 10000)\n"
     ]
    }
   ],
   "source": [
    "print_accuracy()"
   ]
  },
  {
   "cell_type": "code",
   "execution_count": 26,
   "metadata": {
    "collapsed": false
   },
   "outputs": [
    {
     "name": "stdout",
     "output_type": "stream",
     "text": [
      "Iter      1,Train Accuracy   6.2%,Validation Accuracy   7.4% *\n",
      "('Total Usage:', 2.826, ' seconds')\n"
     ]
    }
   ],
   "source": [
    "optimize(1)"
   ]
  },
  {
   "cell_type": "code",
   "execution_count": 27,
   "metadata": {
    "collapsed": false
   },
   "outputs": [
    {
     "name": "stdout",
     "output_type": "stream",
     "text": [
      "Accuracy on Test-Set: 8.0% (801 / 10000)\n"
     ]
    }
   ],
   "source": [
    "print_accuracy()"
   ]
  },
  {
   "cell_type": "code",
   "execution_count": 28,
   "metadata": {
    "collapsed": false
   },
   "outputs": [
    {
     "name": "stdout",
     "output_type": "stream",
     "text": [
      "Iter    100,Train Accuracy  70.3%,Validation Accuracy  69.2% *\n",
      "('Total Usage:', 19.557, ' seconds')\n",
      "Accuracy on Test-Set: 70.0% (7001 / 10000)\n"
     ]
    }
   ],
   "source": [
    "optimize(99)\n",
    "print_accuracy()"
   ]
  },
  {
   "cell_type": "code",
   "execution_count": 29,
   "metadata": {
    "collapsed": false
   },
   "outputs": [
    {
     "name": "stdout",
     "output_type": "stream",
     "text": [
      "Iter    200,Train Accuracy  78.1%,Validation Accuracy  81.8% *\n",
      "Iter    300,Train Accuracy  89.8%,Validation Accuracy  87.3% *\n",
      "Iter    400,Train Accuracy  91.4%,Validation Accuracy  89.6% *\n",
      "Iter    500,Train Accuracy  90.6%,Validation Accuracy  91.3% *\n",
      "Iter    600,Train Accuracy  91.4%,Validation Accuracy  92.6% *\n",
      "Iter    700,Train Accuracy  95.3%,Validation Accuracy  93.4% *\n",
      "Iter    800,Train Accuracy  94.5%,Validation Accuracy  93.8% *\n",
      "Iter    900,Train Accuracy  91.4%,Validation Accuracy  93.9% *\n",
      "Iter   1000,Train Accuracy  95.3%,Validation Accuracy  95.0% *\n",
      "Iter   1100,Train Accuracy  96.1%,Validation Accuracy  95.4% *\n",
      "Iter   1200,Train Accuracy  93.0%,Validation Accuracy  95.5% *\n",
      "Iter   1300,Train Accuracy  96.1%,Validation Accuracy  95.7% *\n",
      "Iter   1400,Train Accuracy  94.5%,Validation Accuracy  96.2% *\n",
      "Iter   1500,Train Accuracy  94.5%,Validation Accuracy  96.5% *\n",
      "Iter   1600,Train Accuracy  96.1%,Validation Accuracy  96.5% *\n",
      "Iter   1700,Train Accuracy  97.7%,Validation Accuracy  96.5% \n",
      "Iter   1800,Train Accuracy  93.8%,Validation Accuracy  96.6% *\n",
      "Iter   1900,Train Accuracy  96.9%,Validation Accuracy  97.0% *\n",
      "Iter   2000,Train Accuracy  97.7%,Validation Accuracy  97.0% \n",
      "Iter   2100,Train Accuracy  97.7%,Validation Accuracy  97.0% \n",
      "Iter   2200,Train Accuracy  96.1%,Validation Accuracy  97.2% *\n",
      "Iter   2300,Train Accuracy  96.9%,Validation Accuracy  97.3% *\n",
      "Iter   2400,Train Accuracy 100.0%,Validation Accuracy  96.9% \n",
      "Iter   2500,Train Accuracy  95.3%,Validation Accuracy  97.6% *\n",
      "Iter   2600,Train Accuracy  98.4%,Validation Accuracy  97.2% \n",
      "Iter   2700,Train Accuracy  97.7%,Validation Accuracy  97.7% *\n",
      "Iter   2800,Train Accuracy  96.9%,Validation Accuracy  97.2% \n",
      "Iter   2900,Train Accuracy  99.2%,Validation Accuracy  97.7% \n",
      "Iter   3000,Train Accuracy  98.4%,Validation Accuracy  97.7% *\n",
      "Iter   3100,Train Accuracy  94.5%,Validation Accuracy  97.7% \n",
      "Iter   3200,Train Accuracy  96.9%,Validation Accuracy  97.7% \n",
      "Iter   3300,Train Accuracy  97.7%,Validation Accuracy  97.9% *\n",
      "Iter   3400,Train Accuracy  96.9%,Validation Accuracy  97.7% \n",
      "Iter   3500,Train Accuracy  97.7%,Validation Accuracy  97.8% \n",
      "Iter   3600,Train Accuracy  99.2%,Validation Accuracy  98.0% *\n",
      "Iter   3700,Train Accuracy  96.9%,Validation Accuracy  98.0% \n",
      "Iter   3800,Train Accuracy  99.2%,Validation Accuracy  98.3% *\n",
      "Iter   3900,Train Accuracy  97.7%,Validation Accuracy  98.1% \n",
      "Iter   4000,Train Accuracy  96.1%,Validation Accuracy  98.2% \n",
      "Iter   4100,Train Accuracy  99.2%,Validation Accuracy  98.0% \n",
      "Early Stopping.\n",
      "('Total Usage:', 767.138, ' seconds')\n",
      "Accuracy on Test-Set: 98.2% (9820 / 10000)\n"
     ]
    }
   ],
   "source": [
    "optimize(5000)\n",
    "print_accuracy()"
   ]
  }
 ],
 "metadata": {
  "kernelspec": {
   "display_name": "Python 2",
   "language": "python",
   "name": "python2"
  },
  "language_info": {
   "codemirror_mode": {
    "name": "ipython",
    "version": 2
   },
   "file_extension": ".py",
   "mimetype": "text/x-python",
   "name": "python",
   "nbconvert_exporter": "python",
   "pygments_lexer": "ipython2",
   "version": "2.7.13"
  }
 },
 "nbformat": 4,
 "nbformat_minor": 2
}
